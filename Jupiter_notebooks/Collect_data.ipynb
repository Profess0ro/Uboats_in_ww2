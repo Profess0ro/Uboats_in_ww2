{
 "cells": [
  {
   "cell_type": "markdown",
   "metadata": {},
   "source": [
    "# Collect data"
   ]
  },
  {
   "cell_type": "markdown",
   "metadata": {},
   "source": [
    "### Changing working directory\n",
    "\n",
    "- First we need to change the working directory that´s going to be used\n",
    "- By running the cell below the current directory will be shown:"
   ]
  },
  {
   "cell_type": "code",
   "execution_count": 2,
   "metadata": {},
   "outputs": [
    {
     "data": {
      "text/plain": [
       "'c:\\\\Users\\\\fredd\\\\Desktop\\\\Studier\\\\Project5\\\\Uboats_in_ww2\\\\Jupiter_notebooks'"
      ]
     },
     "execution_count": 2,
     "metadata": {},
     "output_type": "execute_result"
    }
   ],
   "source": [
    "import os\n",
    "current_dir = os.getcwd()\n",
    "current_dir"
   ]
  },
  {
   "cell_type": "markdown",
   "metadata": {},
   "source": [
    "So now we need to change the working directory to the parent of this directory by running the cell below"
   ]
  },
  {
   "cell_type": "code",
   "execution_count": 5,
   "metadata": {},
   "outputs": [
    {
     "name": "stdout",
     "output_type": "stream",
     "text": [
      "You are now working in the following directory: c:\\Users\\fredd\\Desktop\\Studier\n"
     ]
    }
   ],
   "source": [
    "os.chdir(os.path.dirname(current_dir))\n",
    "current_dir = os.getcwd()\n",
    "\n",
    "print(f\"You are now working in the following directory: {current_dir}\")"
   ]
  },
  {
   "cell_type": "markdown",
   "metadata": {},
   "source": [
    "\n",
    "\n",
    "### Collect data from kaggle\n",
    "- First download your kaggle.json file by clicking on your profile picture in the top right corner and then on \"settings\" \n",
    "<br><br><img src=\"../images/screenshots/kaggle.png\"><br><br>\n",
    "- Then press \"Create new token\" under API \n",
    "- When you´ve downloaded the `kaggle.json` file, drag it in to your projects main folder.\n",
    "<br><br><img src=\"../images/screenshots/kaggle2.png\"><br><br>\n",
    "- Once that is done we can run the cell below, so the token is recognized in the session."
   ]
  },
  {
   "cell_type": "code",
   "execution_count": 14,
   "metadata": {},
   "outputs": [
    {
     "data": {
      "text/plain": [
       "'c:\\\\Users\\\\fredd\\\\Desktop\\\\Studier\\\\Project 5\\\\Uboats_in_ww2'"
      ]
     },
     "execution_count": 14,
     "metadata": {},
     "output_type": "execute_result"
    }
   ],
   "source": [
    "import os\n",
    "os.environ['KAGGLE_CONFIG_DIR'] = os.getcwd()\n",
    "\n",
    "os.getcwd()"
   ]
  },
  {
   "cell_type": "markdown",
   "metadata": {},
   "source": [
    "Now let´s download the dataset from kaggle\n",
    "\n",
    "I want to work with this dataset https://www.kaggle.com/datasets/cormac42/ww2-u-boats\n",
    "\n",
    "- By running the cell below we define where the dataset will be downloaded to.\n",
    "- In this case it will be `inputs/datasets/raw` where we store the raw datasets that will be worked on. So if that´s a chance to start over if a problem occur."
   ]
  },
  {
   "cell_type": "code",
   "execution_count": 15,
   "metadata": {},
   "outputs": [
    {
     "name": "stdout",
     "output_type": "stream",
     "text": [
      "Dataset URL: https://www.kaggle.com/datasets/cormac42/ww2-u-boats\n",
      "License(s): CC-BY-SA-4.0\n",
      "Downloading ww2-u-boats.zip to inputs/datasets/raw\n",
      "\n"
     ]
    },
    {
     "name": "stderr",
     "output_type": "stream",
     "text": [
      "\n",
      "  0%|          | 0.00/102k [00:00<?, ?B/s]\n",
      "100%|██████████| 102k/102k [00:00<00:00, 358kB/s]\n",
      "100%|██████████| 102k/102k [00:00<00:00, 357kB/s]\n"
     ]
    }
   ],
   "source": [
    "KaggleDatasetPath = \"cormac42/ww2-u-boats\"\n",
    "DestinationFolder = \"inputs/datasets/raw\"   \n",
    "! kaggle datasets download -d {KaggleDatasetPath} -p {DestinationFolder}"
   ]
  },
  {
   "cell_type": "markdown",
   "metadata": {},
   "source": [
    "Now we need to unzip the data file and delete the zip file and kaggle.json since those files won´t be needed anymore"
   ]
  },
  {
   "cell_type": "code",
   "execution_count": 16,
   "metadata": {},
   "outputs": [],
   "source": [
    "import zipfile\n",
    "import glob\n",
    "import os\n",
    "\n",
    "DestinationFolder = \"inputs/datasets/raw\"\n",
    "KaggleJsonPath = \"kaggle.json\"\n",
    "\n",
    "# This will find the zip-file in the DestinationFolder and unåack it\n",
    "for zip_path in glob.glob(f\"{DestinationFolder}/*.zip\"):\n",
    "    with zipfile.ZipFile(zip_path, 'r') as zip_ref:\n",
    "        zip_ref.extractall(DestinationFolder)\n",
    "    os.remove(zip_path)  # Removes zip-file after unpacking\n",
    "\n",
    "if os.path.exists(KaggleJsonPath):\n",
    "    os.remove(KaggleJsonPath) # This will remove the file"
   ]
  },
  {
   "cell_type": "markdown",
   "metadata": {},
   "source": [
    "Let´s load the data and inspect"
   ]
  },
  {
   "cell_type": "code",
   "execution_count": 3,
   "metadata": {},
   "outputs": [
    {
     "data": {
      "text/html": [
       "<div>\n",
       "<style scoped>\n",
       "    .dataframe tbody tr th:only-of-type {\n",
       "        vertical-align: middle;\n",
       "    }\n",
       "\n",
       "    .dataframe tbody tr th {\n",
       "        vertical-align: top;\n",
       "    }\n",
       "\n",
       "    .dataframe thead th {\n",
       "        text-align: right;\n",
       "    }\n",
       "</style>\n",
       "<table border=\"1\" class=\"dataframe\">\n",
       "  <thead>\n",
       "    <tr style=\"text-align: right;\">\n",
       "      <th></th>\n",
       "      <th>Name</th>\n",
       "      <th>Year</th>\n",
       "      <th>Type</th>\n",
       "      <th>Notable Commanders</th>\n",
       "      <th>Warships_sunk_n_total_loss_No</th>\n",
       "      <th>Warships_sunk_n_total_loss_Tons-n-GRT</th>\n",
       "      <th>Warships_Damaged_No</th>\n",
       "      <th>Warships_Damaged_Tons-n-GRT</th>\n",
       "      <th>Merchant_Ships_sunk_No</th>\n",
       "      <th>Merchant_Ships_sunk_GRT</th>\n",
       "      <th>...</th>\n",
       "      <th>Notes</th>\n",
       "      <th>URL</th>\n",
       "      <th>Commissioned</th>\n",
       "      <th>Patrols</th>\n",
       "      <th>Patrols_Count</th>\n",
       "      <th>Wolfpacks</th>\n",
       "      <th>Wolfpacks_Count</th>\n",
       "      <th>Flotilla</th>\n",
       "      <th>Flotilla_Count</th>\n",
       "      <th>Last_Flotilla</th>\n",
       "    </tr>\n",
       "  </thead>\n",
       "  <tbody>\n",
       "    <tr>\n",
       "      <th>0</th>\n",
       "      <td>U-1</td>\n",
       "      <td>1935</td>\n",
       "      <td>IIA</td>\n",
       "      <td>Klaus Ewerth</td>\n",
       "      <td>0</td>\n",
       "      <td>0</td>\n",
       "      <td>0</td>\n",
       "      <td>0</td>\n",
       "      <td>0</td>\n",
       "      <td>0</td>\n",
       "      <td>...</td>\n",
       "      <td>Struck a mine</td>\n",
       "      <td>https://en.wikipedia.org/wiki/German_submarine...</td>\n",
       "      <td>1935-06-29</td>\n",
       "      <td>2 patrols:1st patrol:15 – 29 March 19402nd pat...</td>\n",
       "      <td>2</td>\n",
       "      <td>NaN</td>\n",
       "      <td>0</td>\n",
       "      <td>{'U-boat School Flotilla': ['1 July 1935 ', ' ...</td>\n",
       "      <td>1</td>\n",
       "      <td>U-boat School Flotilla</td>\n",
       "    </tr>\n",
       "    <tr>\n",
       "      <th>1</th>\n",
       "      <td>U-2</td>\n",
       "      <td>1935</td>\n",
       "      <td>IIA</td>\n",
       "      <td>Hans Heidtmann,Heinrich Liebe,Helmut Rosenbaum...</td>\n",
       "      <td>0</td>\n",
       "      <td>0</td>\n",
       "      <td>0</td>\n",
       "      <td>0</td>\n",
       "      <td>0</td>\n",
       "      <td>0</td>\n",
       "      <td>...</td>\n",
       "      <td>Training boat</td>\n",
       "      <td>https://en.wikipedia.org/wiki/German_submarine...</td>\n",
       "      <td>1935-07-25</td>\n",
       "      <td>2 patrols:1st patrol:15 – 29 March 19402nd pat...</td>\n",
       "      <td>2</td>\n",
       "      <td>NaN</td>\n",
       "      <td>0</td>\n",
       "      <td>{'U-boat School Flotilla': ['1 July 1935 ', ' ...</td>\n",
       "      <td>2</td>\n",
       "      <td>21st U-boat Flotilla</td>\n",
       "    </tr>\n",
       "    <tr>\n",
       "      <th>2</th>\n",
       "      <td>U-3</td>\n",
       "      <td>1935</td>\n",
       "      <td>IIA</td>\n",
       "      <td>Joachim Schepke,Otto von Bülow,Hans-Hartwig Tr...</td>\n",
       "      <td>0</td>\n",
       "      <td>0</td>\n",
       "      <td>0</td>\n",
       "      <td>0</td>\n",
       "      <td>2</td>\n",
       "      <td>2,348</td>\n",
       "      <td>...</td>\n",
       "      <td>NaN</td>\n",
       "      <td>https://en.wikipedia.org/wiki/German_submarine...</td>\n",
       "      <td>1935-09-06</td>\n",
       "      <td>5 patrols:1st patrol:4 – 8 September 19392nd p...</td>\n",
       "      <td>5</td>\n",
       "      <td>NaN</td>\n",
       "      <td>0</td>\n",
       "      <td>{'U-boat School Flotilla': ['1 August 1935 ', ...</td>\n",
       "      <td>2</td>\n",
       "      <td>21st U-boat Flotilla</td>\n",
       "    </tr>\n",
       "    <tr>\n",
       "      <th>3</th>\n",
       "      <td>U-4</td>\n",
       "      <td>1935</td>\n",
       "      <td>IIA</td>\n",
       "      <td>Heinz-Otto Schultze</td>\n",
       "      <td>1</td>\n",
       "      <td>1,090</td>\n",
       "      <td>0</td>\n",
       "      <td>0</td>\n",
       "      <td>3</td>\n",
       "      <td>5,133</td>\n",
       "      <td>...</td>\n",
       "      <td>NaN</td>\n",
       "      <td>https://en.wikipedia.org/wiki/German_submarine...</td>\n",
       "      <td>1935-08-17</td>\n",
       "      <td>4 patrols:1st patrol:4 – 14 September 19392nd ...</td>\n",
       "      <td>4</td>\n",
       "      <td>NaN</td>\n",
       "      <td>0</td>\n",
       "      <td>{'U-boat School Flotilla': ['1 August 1935 ', ...</td>\n",
       "      <td>2</td>\n",
       "      <td>21st U-boat Flotilla</td>\n",
       "    </tr>\n",
       "    <tr>\n",
       "      <th>4</th>\n",
       "      <td>U-5</td>\n",
       "      <td>1935</td>\n",
       "      <td>IIA</td>\n",
       "      <td>Heinrich Lehmann-Willenbrock</td>\n",
       "      <td>0</td>\n",
       "      <td>0</td>\n",
       "      <td>0</td>\n",
       "      <td>0</td>\n",
       "      <td>0</td>\n",
       "      <td>0</td>\n",
       "      <td>...</td>\n",
       "      <td>Accident</td>\n",
       "      <td>https://en.wikipedia.org/wiki/German_submarine...</td>\n",
       "      <td>1935-08-31</td>\n",
       "      <td>2 patrols:1st patrol:24 August – 8 September 1...</td>\n",
       "      <td>2</td>\n",
       "      <td>NaN</td>\n",
       "      <td>0</td>\n",
       "      <td>{'U-boat School Flotilla': ['1 September 1935 ...</td>\n",
       "      <td>2</td>\n",
       "      <td>21st U-boat Flotilla</td>\n",
       "    </tr>\n",
       "  </tbody>\n",
       "</table>\n",
       "<p>5 rows × 26 columns</p>\n",
       "</div>"
      ],
      "text/plain": [
       "  Name  Year Type                                 Notable Commanders  \\\n",
       "0  U-1  1935  IIA                                       Klaus Ewerth   \n",
       "1  U-2  1935  IIA  Hans Heidtmann,Heinrich Liebe,Helmut Rosenbaum...   \n",
       "2  U-3  1935  IIA  Joachim Schepke,Otto von Bülow,Hans-Hartwig Tr...   \n",
       "3  U-4  1935  IIA                                Heinz-Otto Schultze   \n",
       "4  U-5  1935  IIA                       Heinrich Lehmann-Willenbrock   \n",
       "\n",
       "   Warships_sunk_n_total_loss_No Warships_sunk_n_total_loss_Tons-n-GRT  \\\n",
       "0                              0                                     0   \n",
       "1                              0                                     0   \n",
       "2                              0                                     0   \n",
       "3                              1                                 1,090   \n",
       "4                              0                                     0   \n",
       "\n",
       "   Warships_Damaged_No Warships_Damaged_Tons-n-GRT  Merchant_Ships_sunk_No  \\\n",
       "0                    0                           0                       0   \n",
       "1                    0                           0                       0   \n",
       "2                    0                           0                       2   \n",
       "3                    0                           0                       3   \n",
       "4                    0                           0                       0   \n",
       "\n",
       "  Merchant_Ships_sunk_GRT  ...          Notes  \\\n",
       "0                       0  ...  Struck a mine   \n",
       "1                       0  ...  Training boat   \n",
       "2                   2,348  ...            NaN   \n",
       "3                   5,133  ...            NaN   \n",
       "4                       0  ...       Accident   \n",
       "\n",
       "                                                 URL  Commissioned  \\\n",
       "0  https://en.wikipedia.org/wiki/German_submarine...    1935-06-29   \n",
       "1  https://en.wikipedia.org/wiki/German_submarine...    1935-07-25   \n",
       "2  https://en.wikipedia.org/wiki/German_submarine...    1935-09-06   \n",
       "3  https://en.wikipedia.org/wiki/German_submarine...    1935-08-17   \n",
       "4  https://en.wikipedia.org/wiki/German_submarine...    1935-08-31   \n",
       "\n",
       "                                             Patrols Patrols_Count Wolfpacks  \\\n",
       "0  2 patrols:1st patrol:15 – 29 March 19402nd pat...             2       NaN   \n",
       "1  2 patrols:1st patrol:15 – 29 March 19402nd pat...             2       NaN   \n",
       "2  5 patrols:1st patrol:4 – 8 September 19392nd p...             5       NaN   \n",
       "3  4 patrols:1st patrol:4 – 14 September 19392nd ...             4       NaN   \n",
       "4  2 patrols:1st patrol:24 August – 8 September 1...             2       NaN   \n",
       "\n",
       "  Wolfpacks_Count                                           Flotilla  \\\n",
       "0               0  {'U-boat School Flotilla': ['1 July 1935 ', ' ...   \n",
       "1               0  {'U-boat School Flotilla': ['1 July 1935 ', ' ...   \n",
       "2               0  {'U-boat School Flotilla': ['1 August 1935 ', ...   \n",
       "3               0  {'U-boat School Flotilla': ['1 August 1935 ', ...   \n",
       "4               0  {'U-boat School Flotilla': ['1 September 1935 ...   \n",
       "\n",
       "  Flotilla_Count           Last_Flotilla  \n",
       "0              1  U-boat School Flotilla  \n",
       "1              2    21st U-boat Flotilla  \n",
       "2              2    21st U-boat Flotilla  \n",
       "3              2    21st U-boat Flotilla  \n",
       "4              2    21st U-boat Flotilla  \n",
       "\n",
       "[5 rows x 26 columns]"
      ]
     },
     "execution_count": 3,
     "metadata": {},
     "output_type": "execute_result"
    }
   ],
   "source": [
    "import pandas as pd\n",
    "df = pd.read_csv(f\"inputs/datasets/raw/uboats.csv\")\n",
    "df.head()"
   ]
  },
  {
   "cell_type": "markdown",
   "metadata": {},
   "source": [
    "Now let´s look in to the summary of the dataset:"
   ]
  },
  {
   "cell_type": "code",
   "execution_count": 18,
   "metadata": {},
   "outputs": [
    {
     "data": {
      "text/plain": [
       "<bound method DataFrame.info of         Name  Year   Type                                 Notable Commanders  \\\n",
       "0        U-1  1935    IIA                                       Klaus Ewerth   \n",
       "1        U-2  1935    IIA  Hans Heidtmann,Heinrich Liebe,Helmut Rosenbaum...   \n",
       "2        U-3  1935    IIA  Joachim Schepke,Otto von Bülow,Hans-Hartwig Tr...   \n",
       "3        U-4  1935    IIA                                Heinz-Otto Schultze   \n",
       "4        U-5  1935    IIA                       Heinrich Lehmann-Willenbrock   \n",
       "...      ...   ...    ...                                                ...   \n",
       "1148  U-4707  1945  XXIII                                                NaN   \n",
       "1149  U-4709  1945  XXIII                                                NaN   \n",
       "1150  U-4710  1945  XXIII                              Ludwig von Friedeburg   \n",
       "1151  U-4711  1945  XXIII                                                NaN   \n",
       "1152  U-4712  1945  XXIII                                                NaN   \n",
       "\n",
       "      Warships_sunk_n_total_loss_No Warships_sunk_n_total_loss_Tons-n-GRT  \\\n",
       "0                                 0                                     0   \n",
       "1                                 0                                     0   \n",
       "2                                 0                                     0   \n",
       "3                                 1                                 1,090   \n",
       "4                                 0                                     0   \n",
       "...                             ...                                   ...   \n",
       "1148                              0                                     0   \n",
       "1149                              0                                     0   \n",
       "1150                              0                                     0   \n",
       "1151                              0                                     0   \n",
       "1152                              0                                     0   \n",
       "\n",
       "      Warships_Damaged_No Warships_Damaged_Tons-n-GRT  Merchant_Ships_sunk_No  \\\n",
       "0                       0                           0                       0   \n",
       "1                       0                           0                       0   \n",
       "2                       0                           0                       2   \n",
       "3                       0                           0                       3   \n",
       "4                       0                           0                       0   \n",
       "...                   ...                         ...                     ...   \n",
       "1148                    0                           0                       0   \n",
       "1149                    0                           0                       0   \n",
       "1150                    0                           0                       0   \n",
       "1151                    0                           0                       0   \n",
       "1152                    0                           0                       0   \n",
       "\n",
       "     Merchant_Ships_sunk_GRT  ...          Notes  \\\n",
       "0                          0  ...  Struck a mine   \n",
       "1                          0  ...  Training boat   \n",
       "2                      2,348  ...            NaN   \n",
       "3                      5,133  ...            NaN   \n",
       "4                          0  ...       Accident   \n",
       "...                      ...  ...            ...   \n",
       "1148                       0  ...            NaN   \n",
       "1149                       0  ...            NaN   \n",
       "1150                       0  ...            NaN   \n",
       "1151                       0  ...            NaN   \n",
       "1152                       0  ...            NaN   \n",
       "\n",
       "                                                    URL  Commissioned  \\\n",
       "0     https://en.wikipedia.org/wiki/German_submarine...    1935-06-29   \n",
       "1     https://en.wikipedia.org/wiki/German_submarine...    1935-07-25   \n",
       "2     https://en.wikipedia.org/wiki/German_submarine...    1935-09-06   \n",
       "3     https://en.wikipedia.org/wiki/German_submarine...    1935-08-17   \n",
       "4     https://en.wikipedia.org/wiki/German_submarine...    1935-08-31   \n",
       "...                                                 ...           ...   \n",
       "1148  https://en.wikipedia.org/wiki/German_submarine...    1945-02-20   \n",
       "1149  https://en.wikipedia.org/wiki/German_submarine...    1945-03-03   \n",
       "1150  https://en.wikipedia.org/wiki/German_submarine...    1945-05-01   \n",
       "1151  https://en.wikipedia.org/wiki/German_submarine...    1945-03-21   \n",
       "1152  https://en.wikipedia.org/wiki/German_submarine...    1945-04-03   \n",
       "\n",
       "                                                Patrols Patrols_Count  \\\n",
       "0     2 patrols:1st patrol:15 – 29 March 19402nd pat...             2   \n",
       "1     2 patrols:1st patrol:15 – 29 March 19402nd pat...             2   \n",
       "2     5 patrols:1st patrol:4 – 8 September 19392nd p...             5   \n",
       "3     4 patrols:1st patrol:4 – 14 September 19392nd ...             4   \n",
       "4     2 patrols:1st patrol:24 August – 8 September 1...             2   \n",
       "...                                                 ...           ...   \n",
       "1148                                                NaN             0   \n",
       "1149                                                NaN             0   \n",
       "1150                                                NaN             0   \n",
       "1151                                                NaN             0   \n",
       "1152                                                NaN             0   \n",
       "\n",
       "     Wolfpacks Wolfpacks_Count  \\\n",
       "0          NaN               0   \n",
       "1          NaN               0   \n",
       "2          NaN               0   \n",
       "3          NaN               0   \n",
       "4          NaN               0   \n",
       "...        ...             ...   \n",
       "1148       NaN               0   \n",
       "1149       NaN               0   \n",
       "1150       NaN               0   \n",
       "1151       NaN               0   \n",
       "1152       NaN               0   \n",
       "\n",
       "                                               Flotilla Flotilla_Count  \\\n",
       "0     {'U-boat School Flotilla': ['1 July 1935 ', ' ...              1   \n",
       "1     {'U-boat School Flotilla': ['1 July 1935 ', ' ...              2   \n",
       "2     {'U-boat School Flotilla': ['1 August 1935 ', ...              2   \n",
       "3     {'U-boat School Flotilla': ['1 August 1935 ', ...              2   \n",
       "4     {'U-boat School Flotilla': ['1 September 1935 ...              2   \n",
       "...                                                 ...            ...   \n",
       "1148  {'5th U-boat Flotilla': ['20 February ', ' 5 M...              1   \n",
       "1149  {'5th U-boat Flotilla': ['3 March ', ' 4 May 1...              1   \n",
       "1150     {'5th U-boat Flotilla': ['1 ', ' 5 May 1945']}              1   \n",
       "1151  {'5th U-boat Flotilla': ['21 March ', ' 4 May ...              1   \n",
       "1152  {'5th U-boat Flotilla': ['3 April ', ' 3 May 1...              1   \n",
       "\n",
       "               Last_Flotilla  \n",
       "0     U-boat School Flotilla  \n",
       "1       21st U-boat Flotilla  \n",
       "2       21st U-boat Flotilla  \n",
       "3       21st U-boat Flotilla  \n",
       "4       21st U-boat Flotilla  \n",
       "...                      ...  \n",
       "1148     5th U-boat Flotilla  \n",
       "1149     5th U-boat Flotilla  \n",
       "1150     5th U-boat Flotilla  \n",
       "1151     5th U-boat Flotilla  \n",
       "1152     5th U-boat Flotilla  \n",
       "\n",
       "[1153 rows x 26 columns]>"
      ]
     },
     "execution_count": 18,
     "metadata": {},
     "output_type": "execute_result"
    }
   ],
   "source": [
    "df.info"
   ]
  },
  {
   "cell_type": "markdown",
   "metadata": {},
   "source": [
    "This dataset has 26 columns and 1153 rows with data. <br>\n",
    "Since the names of the uboats are unique, let´s take a look if there are some duplicates in that column by running the cell below.<br>\n",
    "Hopefully there won´t be any duplicates shown!"
   ]
  },
  {
   "cell_type": "code",
   "execution_count": 19,
   "metadata": {},
   "outputs": [
    {
     "data": {
      "text/html": [
       "<div>\n",
       "<style scoped>\n",
       "    .dataframe tbody tr th:only-of-type {\n",
       "        vertical-align: middle;\n",
       "    }\n",
       "\n",
       "    .dataframe tbody tr th {\n",
       "        vertical-align: top;\n",
       "    }\n",
       "\n",
       "    .dataframe thead th {\n",
       "        text-align: right;\n",
       "    }\n",
       "</style>\n",
       "<table border=\"1\" class=\"dataframe\">\n",
       "  <thead>\n",
       "    <tr style=\"text-align: right;\">\n",
       "      <th></th>\n",
       "      <th>Name</th>\n",
       "      <th>Year</th>\n",
       "      <th>Type</th>\n",
       "      <th>Notable Commanders</th>\n",
       "      <th>Warships_sunk_n_total_loss_No</th>\n",
       "      <th>Warships_sunk_n_total_loss_Tons-n-GRT</th>\n",
       "      <th>Warships_Damaged_No</th>\n",
       "      <th>Warships_Damaged_Tons-n-GRT</th>\n",
       "      <th>Merchant_Ships_sunk_No</th>\n",
       "      <th>Merchant_Ships_sunk_GRT</th>\n",
       "      <th>...</th>\n",
       "      <th>Notes</th>\n",
       "      <th>URL</th>\n",
       "      <th>Commissioned</th>\n",
       "      <th>Patrols</th>\n",
       "      <th>Patrols_Count</th>\n",
       "      <th>Wolfpacks</th>\n",
       "      <th>Wolfpacks_Count</th>\n",
       "      <th>Flotilla</th>\n",
       "      <th>Flotilla_Count</th>\n",
       "      <th>Last_Flotilla</th>\n",
       "    </tr>\n",
       "  </thead>\n",
       "  <tbody>\n",
       "  </tbody>\n",
       "</table>\n",
       "<p>0 rows × 26 columns</p>\n",
       "</div>"
      ],
      "text/plain": [
       "Empty DataFrame\n",
       "Columns: [Name, Year, Type, Notable Commanders, Warships_sunk_n_total_loss_No, Warships_sunk_n_total_loss_Tons-n-GRT, Warships_Damaged_No, Warships_Damaged_Tons-n-GRT, Merchant_Ships_sunk_No, Merchant_Ships_sunk_GRT, Merchant_Ships_damaged_No, Merchant_Ships_damaged_GRT, Merchant_Ships_total_loss_No, Merchant_Ships_total_loss_GRT, Fate_Event, Fate_Date, Notes, URL, Commissioned, Patrols, Patrols_Count, Wolfpacks, Wolfpacks_Count, Flotilla, Flotilla_Count, Last_Flotilla]\n",
       "Index: []\n",
       "\n",
       "[0 rows x 26 columns]"
      ]
     },
     "execution_count": 19,
     "metadata": {},
     "output_type": "execute_result"
    }
   ],
   "source": [
    "df[df.duplicated(subset=['Name'])]"
   ]
  },
  {
   "cell_type": "code",
   "execution_count": 20,
   "metadata": {},
   "outputs": [
    {
     "data": {
      "text/plain": [
       "Name                                     object\n",
       "Year                                      int64\n",
       "Type                                     object\n",
       "Notable Commanders                       object\n",
       "Warships_sunk_n_total_loss_No             int64\n",
       "Warships_sunk_n_total_loss_Tons-n-GRT    object\n",
       "Warships_Damaged_No                       int64\n",
       "Warships_Damaged_Tons-n-GRT              object\n",
       "Merchant_Ships_sunk_No                    int64\n",
       "Merchant_Ships_sunk_GRT                  object\n",
       "Merchant_Ships_damaged_No                 int64\n",
       "Merchant_Ships_damaged_GRT               object\n",
       "Merchant_Ships_total_loss_No              int64\n",
       "Merchant_Ships_total_loss_GRT            object\n",
       "Fate_Event                               object\n",
       "Fate_Date                                object\n",
       "Notes                                    object\n",
       "URL                                      object\n",
       "Commissioned                             object\n",
       "Patrols                                  object\n",
       "Patrols_Count                             int64\n",
       "Wolfpacks                                object\n",
       "Wolfpacks_Count                           int64\n",
       "Flotilla                                 object\n",
       "Flotilla_Count                            int64\n",
       "Last_Flotilla                            object\n",
       "dtype: object"
      ]
     },
     "execution_count": 20,
     "metadata": {},
     "output_type": "execute_result"
    }
   ],
   "source": [
    "df.dtypes"
   ]
  }
 ],
 "metadata": {
  "kernelspec": {
   "display_name": "Python 3",
   "language": "python",
   "name": "python3"
  },
  "language_info": {
   "codemirror_mode": {
    "name": "ipython",
    "version": 3
   },
   "file_extension": ".py",
   "mimetype": "text/x-python",
   "name": "python",
   "nbconvert_exporter": "python",
   "pygments_lexer": "ipython3",
   "version": "3.11.9"
  }
 },
 "nbformat": 4,
 "nbformat_minor": 2
}
