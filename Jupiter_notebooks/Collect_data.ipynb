{
 "cells": [
  {
   "cell_type": "markdown",
   "metadata": {},
   "source": [
    "# Collect data"
   ]
  },
  {
   "cell_type": "markdown",
   "metadata": {},
   "source": []
  },
  {
   "cell_type": "markdown",
   "metadata": {},
   "source": [
    "\n",
    "\n",
    "### Collect data from kaggle\n",
    "- First download your kaggle.json file by clicking on your profile picture in the top right corner and then on \"settings\" \n",
    "<br><br><img src=\"../images/screenshots/kaggle.png\"><br><br>\n",
    "- Then press \"Create new token\" under API \n",
    "- When you´ve downloaded the `kaggle.json` file, drag it in to your projects main folder.\n",
    "<br><br><img src=\"../images/screenshots/kaggle2.png\"><br><br>\n",
    "- Once that is done we can run the cell below, so the token is recognized in the session."
   ]
  },
  {
   "cell_type": "code",
   "execution_count": 3,
   "metadata": {},
   "outputs": [
    {
     "data": {
      "text/plain": [
       "'c:\\\\Users\\\\fredd\\\\Desktop\\\\Studier\\\\Project 5\\\\Uboats_in_ww2\\\\Jupiter_notebooks'"
      ]
     },
     "execution_count": 3,
     "metadata": {},
     "output_type": "execute_result"
    }
   ],
   "source": [
    "import os\n",
    "os.environ['KAGGLE_CONFIG_DIR'] = os.getcwd()\n",
    "\n",
    "os.getcwd()"
   ]
  },
  {
   "cell_type": "markdown",
   "metadata": {},
   "source": [
    "Now let´s download the dataset from kaggle\n",
    "\n",
    "I want to work with this dataset https://www.kaggle.com/datasets/cormac42/ww2-u-boats\n",
    "\n",
    "- By running the cell below we define where the dataset will be downloaded to.\n",
    "- In this case it will be `inputs/datasets/raw` where we store the raw datasets that will be worked on. So if that´s a chance to start over if a problem occur."
   ]
  },
  {
   "cell_type": "code",
   "execution_count": 5,
   "metadata": {},
   "outputs": [
    {
     "name": "stdout",
     "output_type": "stream",
     "text": [
      "Dataset URL: https://www.kaggle.com/datasets/cormac42/ww2-u-boats\n",
      "License(s): CC-BY-SA-4.0\n",
      "Downloading ww2-u-boats.zip to inputs/datasets/raw\n",
      "\n"
     ]
    },
    {
     "name": "stderr",
     "output_type": "stream",
     "text": [
      "\n",
      "  0%|          | 0.00/102k [00:00<?, ?B/s]\n",
      "100%|██████████| 102k/102k [00:00<00:00, 456kB/s]\n",
      "100%|██████████| 102k/102k [00:00<00:00, 454kB/s]\n"
     ]
    }
   ],
   "source": [
    "KaggleDatasetPath = \"cormac42/ww2-u-boats\"\n",
    "DestinationFolder = \"inputs/datasets/raw\"   \n",
    "! kaggle datasets download -d {KaggleDatasetPath} -p {DestinationFolder}"
   ]
  },
  {
   "cell_type": "markdown",
   "metadata": {},
   "source": [
    "Now we need to unzip the data file and delete the zip file and kaggle.json since those files won´t be needed anymore"
   ]
  },
  {
   "cell_type": "code",
   "execution_count": 8,
   "metadata": {},
   "outputs": [],
   "source": [
    "import zipfile\n",
    "import glob\n",
    "import os\n",
    "\n",
    "DestinationFolder = \"inputs/datasets/raw\"\n",
    "KaggleJsonPath = \"kaggle.json\"\n",
    "\n",
    "# This will find the zip-file in the DestinationFolder and unåack it\n",
    "for zip_path in glob.glob(f\"{DestinationFolder}/*.zip\"):\n",
    "    with zipfile.ZipFile(zip_path, 'r') as zip_ref:\n",
    "        zip_ref.extractall(DestinationFolder)\n",
    "    os.remove(zip_path)  # Removes zip-file after unpacking\n",
    "\n",
    "if os.path.exists(KaggleJsonPath):\n",
    "    os.remove(KaggleJsonPath) # This will remove the file"
   ]
  }
 ],
 "metadata": {
  "kernelspec": {
   "display_name": "Python 3",
   "language": "python",
   "name": "python3"
  },
  "language_info": {
   "codemirror_mode": {
    "name": "ipython",
    "version": 3
   },
   "file_extension": ".py",
   "mimetype": "text/x-python",
   "name": "python",
   "nbconvert_exporter": "python",
   "pygments_lexer": "ipython3",
   "version": "3.11.9"
  }
 },
 "nbformat": 4,
 "nbformat_minor": 2
}
