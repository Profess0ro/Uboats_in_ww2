{
 "cells": [
  {
   "cell_type": "markdown",
   "metadata": {},
   "source": [
    "# Clean data"
   ]
  },
  {
   "cell_type": "markdown",
   "metadata": {},
   "source": [
    "### Change working directory\n",
    "\n",
    "By running the cell below we will change directory from \"jupiter_notebooks\" where this file exist to the parent directory (main directory of this project)"
   ]
  },
  {
   "cell_type": "code",
   "execution_count": 1,
   "metadata": {},
   "outputs": [
    {
     "name": "stdout",
     "output_type": "stream",
     "text": [
      "You are currently working in c:\\Users\\fredd\\Desktop\\Studier\\Project5\\Uboats_in_ww2\\Jupiter_notebooks\n",
      "If you want to change to the parent of this directory, run the cell below\n"
     ]
    }
   ],
   "source": [
    "import os\n",
    "current_dir = os.getcwd()\n",
    "print(f\"You are currently working in {current_dir}\")\n",
    "print(\"If you want to change to the parent of this directory, run the cell below\")"
   ]
  },
  {
   "cell_type": "code",
   "execution_count": 2,
   "metadata": {},
   "outputs": [
    {
     "name": "stdout",
     "output_type": "stream",
     "text": [
      "You are now working in the following directory: c:\\Users\\fredd\\Desktop\\Studier\\Project5\\Uboats_in_ww2\n"
     ]
    }
   ],
   "source": [
    "os.chdir(os.path.dirname(current_dir))\n",
    "current_dir = os.getcwd()\n",
    "\n",
    "print(f\"You are now working in the following directory: {current_dir}\")"
   ]
  },
  {
   "cell_type": "markdown",
   "metadata": {},
   "source": [
    "### Load the raw dataset"
   ]
  },
  {
   "cell_type": "code",
   "execution_count": 3,
   "metadata": {},
   "outputs": [
    {
     "data": {
      "text/html": [
       "<div>\n",
       "<style scoped>\n",
       "    .dataframe tbody tr th:only-of-type {\n",
       "        vertical-align: middle;\n",
       "    }\n",
       "\n",
       "    .dataframe tbody tr th {\n",
       "        vertical-align: top;\n",
       "    }\n",
       "\n",
       "    .dataframe thead th {\n",
       "        text-align: right;\n",
       "    }\n",
       "</style>\n",
       "<table border=\"1\" class=\"dataframe\">\n",
       "  <thead>\n",
       "    <tr style=\"text-align: right;\">\n",
       "      <th></th>\n",
       "      <th>Name</th>\n",
       "      <th>Year</th>\n",
       "      <th>Type</th>\n",
       "      <th>Notable Commanders</th>\n",
       "      <th>Warships_sunk_n_total_loss_No</th>\n",
       "      <th>Warships_sunk_n_total_loss_Tons-n-GRT</th>\n",
       "      <th>Warships_Damaged_No</th>\n",
       "      <th>Warships_Damaged_Tons-n-GRT</th>\n",
       "      <th>Merchant_Ships_sunk_No</th>\n",
       "      <th>Merchant_Ships_sunk_GRT</th>\n",
       "      <th>...</th>\n",
       "      <th>Notes</th>\n",
       "      <th>URL</th>\n",
       "      <th>Commissioned</th>\n",
       "      <th>Patrols</th>\n",
       "      <th>Patrols_Count</th>\n",
       "      <th>Wolfpacks</th>\n",
       "      <th>Wolfpacks_Count</th>\n",
       "      <th>Flotilla</th>\n",
       "      <th>Flotilla_Count</th>\n",
       "      <th>Last_Flotilla</th>\n",
       "    </tr>\n",
       "  </thead>\n",
       "  <tbody>\n",
       "    <tr>\n",
       "      <th>0</th>\n",
       "      <td>U-1</td>\n",
       "      <td>1935</td>\n",
       "      <td>IIA</td>\n",
       "      <td>Klaus Ewerth</td>\n",
       "      <td>0</td>\n",
       "      <td>0</td>\n",
       "      <td>0</td>\n",
       "      <td>0</td>\n",
       "      <td>0</td>\n",
       "      <td>0</td>\n",
       "      <td>...</td>\n",
       "      <td>Struck a mine</td>\n",
       "      <td>https://en.wikipedia.org/wiki/German_submarine...</td>\n",
       "      <td>1935-06-29</td>\n",
       "      <td>2 patrols:1st patrol:15 – 29 March 19402nd pat...</td>\n",
       "      <td>2</td>\n",
       "      <td>NaN</td>\n",
       "      <td>0</td>\n",
       "      <td>{'U-boat School Flotilla': ['1 July 1935 ', ' ...</td>\n",
       "      <td>1</td>\n",
       "      <td>U-boat School Flotilla</td>\n",
       "    </tr>\n",
       "    <tr>\n",
       "      <th>1</th>\n",
       "      <td>U-2</td>\n",
       "      <td>1935</td>\n",
       "      <td>IIA</td>\n",
       "      <td>Hans Heidtmann,Heinrich Liebe,Helmut Rosenbaum...</td>\n",
       "      <td>0</td>\n",
       "      <td>0</td>\n",
       "      <td>0</td>\n",
       "      <td>0</td>\n",
       "      <td>0</td>\n",
       "      <td>0</td>\n",
       "      <td>...</td>\n",
       "      <td>Training boat</td>\n",
       "      <td>https://en.wikipedia.org/wiki/German_submarine...</td>\n",
       "      <td>1935-07-25</td>\n",
       "      <td>2 patrols:1st patrol:15 – 29 March 19402nd pat...</td>\n",
       "      <td>2</td>\n",
       "      <td>NaN</td>\n",
       "      <td>0</td>\n",
       "      <td>{'U-boat School Flotilla': ['1 July 1935 ', ' ...</td>\n",
       "      <td>2</td>\n",
       "      <td>21st U-boat Flotilla</td>\n",
       "    </tr>\n",
       "    <tr>\n",
       "      <th>2</th>\n",
       "      <td>U-3</td>\n",
       "      <td>1935</td>\n",
       "      <td>IIA</td>\n",
       "      <td>Joachim Schepke,Otto von Bülow,Hans-Hartwig Tr...</td>\n",
       "      <td>0</td>\n",
       "      <td>0</td>\n",
       "      <td>0</td>\n",
       "      <td>0</td>\n",
       "      <td>2</td>\n",
       "      <td>2,348</td>\n",
       "      <td>...</td>\n",
       "      <td>NaN</td>\n",
       "      <td>https://en.wikipedia.org/wiki/German_submarine...</td>\n",
       "      <td>1935-09-06</td>\n",
       "      <td>5 patrols:1st patrol:4 – 8 September 19392nd p...</td>\n",
       "      <td>5</td>\n",
       "      <td>NaN</td>\n",
       "      <td>0</td>\n",
       "      <td>{'U-boat School Flotilla': ['1 August 1935 ', ...</td>\n",
       "      <td>2</td>\n",
       "      <td>21st U-boat Flotilla</td>\n",
       "    </tr>\n",
       "    <tr>\n",
       "      <th>3</th>\n",
       "      <td>U-4</td>\n",
       "      <td>1935</td>\n",
       "      <td>IIA</td>\n",
       "      <td>Heinz-Otto Schultze</td>\n",
       "      <td>1</td>\n",
       "      <td>1,090</td>\n",
       "      <td>0</td>\n",
       "      <td>0</td>\n",
       "      <td>3</td>\n",
       "      <td>5,133</td>\n",
       "      <td>...</td>\n",
       "      <td>NaN</td>\n",
       "      <td>https://en.wikipedia.org/wiki/German_submarine...</td>\n",
       "      <td>1935-08-17</td>\n",
       "      <td>4 patrols:1st patrol:4 – 14 September 19392nd ...</td>\n",
       "      <td>4</td>\n",
       "      <td>NaN</td>\n",
       "      <td>0</td>\n",
       "      <td>{'U-boat School Flotilla': ['1 August 1935 ', ...</td>\n",
       "      <td>2</td>\n",
       "      <td>21st U-boat Flotilla</td>\n",
       "    </tr>\n",
       "    <tr>\n",
       "      <th>4</th>\n",
       "      <td>U-5</td>\n",
       "      <td>1935</td>\n",
       "      <td>IIA</td>\n",
       "      <td>Heinrich Lehmann-Willenbrock</td>\n",
       "      <td>0</td>\n",
       "      <td>0</td>\n",
       "      <td>0</td>\n",
       "      <td>0</td>\n",
       "      <td>0</td>\n",
       "      <td>0</td>\n",
       "      <td>...</td>\n",
       "      <td>Accident</td>\n",
       "      <td>https://en.wikipedia.org/wiki/German_submarine...</td>\n",
       "      <td>1935-08-31</td>\n",
       "      <td>2 patrols:1st patrol:24 August – 8 September 1...</td>\n",
       "      <td>2</td>\n",
       "      <td>NaN</td>\n",
       "      <td>0</td>\n",
       "      <td>{'U-boat School Flotilla': ['1 September 1935 ...</td>\n",
       "      <td>2</td>\n",
       "      <td>21st U-boat Flotilla</td>\n",
       "    </tr>\n",
       "  </tbody>\n",
       "</table>\n",
       "<p>5 rows × 26 columns</p>\n",
       "</div>"
      ],
      "text/plain": [
       "  Name  Year Type                                 Notable Commanders  \\\n",
       "0  U-1  1935  IIA                                       Klaus Ewerth   \n",
       "1  U-2  1935  IIA  Hans Heidtmann,Heinrich Liebe,Helmut Rosenbaum...   \n",
       "2  U-3  1935  IIA  Joachim Schepke,Otto von Bülow,Hans-Hartwig Tr...   \n",
       "3  U-4  1935  IIA                                Heinz-Otto Schultze   \n",
       "4  U-5  1935  IIA                       Heinrich Lehmann-Willenbrock   \n",
       "\n",
       "   Warships_sunk_n_total_loss_No Warships_sunk_n_total_loss_Tons-n-GRT  \\\n",
       "0                              0                                     0   \n",
       "1                              0                                     0   \n",
       "2                              0                                     0   \n",
       "3                              1                                 1,090   \n",
       "4                              0                                     0   \n",
       "\n",
       "   Warships_Damaged_No Warships_Damaged_Tons-n-GRT  Merchant_Ships_sunk_No  \\\n",
       "0                    0                           0                       0   \n",
       "1                    0                           0                       0   \n",
       "2                    0                           0                       2   \n",
       "3                    0                           0                       3   \n",
       "4                    0                           0                       0   \n",
       "\n",
       "  Merchant_Ships_sunk_GRT  ...          Notes  \\\n",
       "0                       0  ...  Struck a mine   \n",
       "1                       0  ...  Training boat   \n",
       "2                   2,348  ...            NaN   \n",
       "3                   5,133  ...            NaN   \n",
       "4                       0  ...       Accident   \n",
       "\n",
       "                                                 URL  Commissioned  \\\n",
       "0  https://en.wikipedia.org/wiki/German_submarine...    1935-06-29   \n",
       "1  https://en.wikipedia.org/wiki/German_submarine...    1935-07-25   \n",
       "2  https://en.wikipedia.org/wiki/German_submarine...    1935-09-06   \n",
       "3  https://en.wikipedia.org/wiki/German_submarine...    1935-08-17   \n",
       "4  https://en.wikipedia.org/wiki/German_submarine...    1935-08-31   \n",
       "\n",
       "                                             Patrols Patrols_Count Wolfpacks  \\\n",
       "0  2 patrols:1st patrol:15 – 29 March 19402nd pat...             2       NaN   \n",
       "1  2 patrols:1st patrol:15 – 29 March 19402nd pat...             2       NaN   \n",
       "2  5 patrols:1st patrol:4 – 8 September 19392nd p...             5       NaN   \n",
       "3  4 patrols:1st patrol:4 – 14 September 19392nd ...             4       NaN   \n",
       "4  2 patrols:1st patrol:24 August – 8 September 1...             2       NaN   \n",
       "\n",
       "  Wolfpacks_Count                                           Flotilla  \\\n",
       "0               0  {'U-boat School Flotilla': ['1 July 1935 ', ' ...   \n",
       "1               0  {'U-boat School Flotilla': ['1 July 1935 ', ' ...   \n",
       "2               0  {'U-boat School Flotilla': ['1 August 1935 ', ...   \n",
       "3               0  {'U-boat School Flotilla': ['1 August 1935 ', ...   \n",
       "4               0  {'U-boat School Flotilla': ['1 September 1935 ...   \n",
       "\n",
       "  Flotilla_Count           Last_Flotilla  \n",
       "0              1  U-boat School Flotilla  \n",
       "1              2    21st U-boat Flotilla  \n",
       "2              2    21st U-boat Flotilla  \n",
       "3              2    21st U-boat Flotilla  \n",
       "4              2    21st U-boat Flotilla  \n",
       "\n",
       "[5 rows x 26 columns]"
      ]
     },
     "execution_count": 3,
     "metadata": {},
     "output_type": "execute_result"
    }
   ],
   "source": [
    "import pandas as pd\n",
    "\n",
    "data_raw = pd.read_csv(f\"inputs/datasets/raw/uboats.csv\")\n",
    "data_raw.head()"
   ]
  },
  {
   "cell_type": "markdown",
   "metadata": {},
   "source": [
    "How many of these columns have empty values?"
   ]
  },
  {
   "cell_type": "code",
   "execution_count": 4,
   "metadata": {},
   "outputs": [
    {
     "name": "stdout",
     "output_type": "stream",
     "text": [
      "Name                                       0\n",
      "Year                                       0\n",
      "Type                                       0\n",
      "Notable Commanders                       935\n",
      "Warships_sunk_n_total_loss_No              0\n",
      "Warships_sunk_n_total_loss_Tons-n-GRT      0\n",
      "Warships_Damaged_No                        0\n",
      "Warships_Damaged_Tons-n-GRT                0\n",
      "Merchant_Ships_sunk_No                     0\n",
      "Merchant_Ships_sunk_GRT                    0\n",
      "Merchant_Ships_damaged_No                  0\n",
      "Merchant_Ships_damaged_GRT                 0\n",
      "Merchant_Ships_total_loss_No               0\n",
      "Merchant_Ships_total_loss_GRT              0\n",
      "Fate_Event                                 0\n",
      "Fate_Date                                  3\n",
      "Notes                                    250\n",
      "URL                                        0\n",
      "Commissioned                               2\n",
      "Patrols                                  296\n",
      "Patrols_Count                              0\n",
      "Wolfpacks                                779\n",
      "Wolfpacks_Count                            0\n",
      "Flotilla                                   0\n",
      "Flotilla_Count                             0\n",
      "Last_Flotilla                              0\n",
      "dtype: int64\n"
     ]
    }
   ],
   "source": [
    "total_null_values = data_raw.isnull().sum()\n",
    "print(total_null_values)"
   ]
  },
  {
   "cell_type": "markdown",
   "metadata": {},
   "source": [
    "I want to see only the columns that have existing empty values"
   ]
  },
  {
   "cell_type": "code",
   "execution_count": 5,
   "metadata": {},
   "outputs": [
    {
     "name": "stdout",
     "output_type": "stream",
     "text": [
      "Notable Commanders    935\n",
      "Fate_Date               3\n",
      "Notes                 250\n",
      "Commissioned            2\n",
      "Patrols               296\n",
      "Wolfpacks             779\n",
      "dtype: int64\n"
     ]
    }
   ],
   "source": [
    "columns_with_null_values = total_null_values[total_null_values > 0]\n",
    "print(columns_with_null_values)"
   ]
  },
  {
   "cell_type": "markdown",
   "metadata": {},
   "source": [
    "Since there are two columns here that I need for the project `Fate_Date` and `Commissioned`, those empty fields needs to be filled. The other ones I can drop and then save a copy of the dataset I will be working on. That we will do later."
   ]
  },
  {
   "cell_type": "markdown",
   "metadata": {},
   "source": [
    "To have correct data to work with, I want to fill in these blanks in `Fate_Date`\n",
    "So first I need to find out which indexes those three values have."
   ]
  },
  {
   "cell_type": "code",
   "execution_count": 6,
   "metadata": {},
   "outputs": [
    {
     "name": "stdout",
     "output_type": "stream",
     "text": [
      "Index([1028, 1074, 1117], dtype='int64')\n"
     ]
    }
   ],
   "source": [
    "fate_dates_null_index = data_raw[data_raw[\"Fate_Date\"].isnull()].index\n",
    "print(fate_dates_null_index)"
   ]
  },
  {
   "cell_type": "markdown",
   "metadata": {},
   "source": [
    "To know what I need to search for, I need the name of the uboats that haven´t got any dates for their fate"
   ]
  },
  {
   "cell_type": "code",
   "execution_count": 7,
   "metadata": {},
   "outputs": [
    {
     "name": "stdout",
     "output_type": "stream",
     "text": [
      "        Name Fate_Event\n",
      "1028  U-2505     Buried\n",
      "1074  U-3004     Buried\n",
      "1117  U-3506     Buried\n"
     ]
    }
   ],
   "source": [
    "values_to_find = data_raw.loc[[1028, 1074, 1117], [\"Name\", \"Fate_Event\"]]\n",
    "print(values_to_find)"
   ]
  },
  {
   "cell_type": "markdown",
   "metadata": {},
   "source": [
    "I´ve searched the internet and found that they are now buried, but I want the happening that occur at World War II and found this:<br>\n",
    "U-2505 was scuttled 3rd of may 1945<br>\n",
    "U-3004 and U3506 was scuttled 2nd of may 1945\n",
    "\n",
    "So now we need to input this data:\n",
    "but first we need to finod out which format the date shall be in."
   ]
  },
  {
   "cell_type": "code",
   "execution_count": 16,
   "metadata": {},
   "outputs": [
    {
     "name": "stdout",
     "output_type": "stream",
     "text": [
      "999     5 May 1945\n",
      "1003    9 May 1945\n",
      "Name: Fate_Date, dtype: object\n"
     ]
    }
   ],
   "source": [
    "print(data_raw.loc[[999,1003], \"Fate_Date\"])"
   ]
  },
  {
   "cell_type": "code",
   "execution_count": 8,
   "metadata": {},
   "outputs": [
    {
     "name": "stdout",
     "output_type": "stream",
     "text": [
      "1028    3 May 1945\n",
      "1074    2 May 1945\n",
      "1117    2 May 1945\n",
      "Name: Fate_Date, dtype: object\n"
     ]
    }
   ],
   "source": [
    "data_raw.loc[1028, \"Fate_Date\"] = \"3 May 1945\"\n",
    "data_raw.loc[1074, \"Fate_Date\"] = \"2 May 1945\"\n",
    "data_raw.loc[1117, \"Fate_Date\"] = \"2 May 1945\"\n",
    "\n",
    "print(data_raw.loc[[1028, 1074, 1117], \"Fate_Date\"])"
   ]
  },
  {
   "cell_type": "code",
   "execution_count": 10,
   "metadata": {},
   "outputs": [
    {
     "name": "stdout",
     "output_type": "stream",
     "text": [
      "Name                                       0\n",
      "Year                                       0\n",
      "Type                                       0\n",
      "Notable Commanders                       935\n",
      "Warships_sunk_n_total_loss_No              0\n",
      "Warships_sunk_n_total_loss_Tons-n-GRT      0\n",
      "Warships_Damaged_No                        0\n",
      "Warships_Damaged_Tons-n-GRT                0\n",
      "Merchant_Ships_sunk_No                     0\n",
      "Merchant_Ships_sunk_GRT                    0\n",
      "Merchant_Ships_damaged_No                  0\n",
      "Merchant_Ships_damaged_GRT                 0\n",
      "Merchant_Ships_total_loss_No               0\n",
      "Merchant_Ships_total_loss_GRT              0\n",
      "Fate_Event                                 0\n",
      "Fate_Date                                  0\n",
      "Notes                                    250\n",
      "URL                                        0\n",
      "Commissioned                               2\n",
      "Patrols                                  296\n",
      "Patrols_Count                              0\n",
      "Wolfpacks                                779\n",
      "Wolfpacks_Count                            0\n",
      "Flotilla                                   0\n",
      "Flotilla_Count                             0\n",
      "Last_Flotilla                              0\n",
      "dtype: int64\n"
     ]
    }
   ],
   "source": [
    "total_null_values = data_raw.isnull().sum()\n",
    "print(total_null_values)"
   ]
  },
  {
   "cell_type": "markdown",
   "metadata": {},
   "source": [
    "Now lets do the same with the empty values in `Commissioned`"
   ]
  },
  {
   "cell_type": "code",
   "execution_count": 12,
   "metadata": {},
   "outputs": [
    {
     "name": "stdout",
     "output_type": "stream",
     "text": [
      "Index([113, 123], dtype='int64')\n"
     ]
    }
   ],
   "source": [
    "commissioned_dates_with_null_values = data_raw[data_raw[\"Commissioned\"].isnull()].index\n",
    "print(commissioned_dates_with_null_values)"
   ]
  },
  {
   "cell_type": "code",
   "execution_count": 13,
   "metadata": {},
   "outputs": [
    {
     "name": "stdout",
     "output_type": "stream",
     "text": [
      "      Name\n",
      "113  U-118\n",
      "123  U-128\n"
     ]
    }
   ],
   "source": [
    "values_to_find_2 = data_raw.loc[[113, 123], [\"Name\"]]\n",
    "print(values_to_find_2)"
   ]
  },
  {
   "cell_type": "markdown",
   "metadata": {},
   "source": [
    "To see what format the date are in, let´s look at the data in a filled index"
   ]
  },
  {
   "cell_type": "code",
   "execution_count": 14,
   "metadata": {},
   "outputs": [
    {
     "data": {
      "text/html": [
       "<div>\n",
       "<style scoped>\n",
       "    .dataframe tbody tr th:only-of-type {\n",
       "        vertical-align: middle;\n",
       "    }\n",
       "\n",
       "    .dataframe tbody tr th {\n",
       "        vertical-align: top;\n",
       "    }\n",
       "\n",
       "    .dataframe thead th {\n",
       "        text-align: right;\n",
       "    }\n",
       "</style>\n",
       "<table border=\"1\" class=\"dataframe\">\n",
       "  <thead>\n",
       "    <tr style=\"text-align: right;\">\n",
       "      <th></th>\n",
       "      <th>Commissioned</th>\n",
       "    </tr>\n",
       "  </thead>\n",
       "  <tbody>\n",
       "    <tr>\n",
       "      <th>114</th>\n",
       "      <td>1942-04-02</td>\n",
       "    </tr>\n",
       "  </tbody>\n",
       "</table>\n",
       "</div>"
      ],
      "text/plain": [
       "    Commissioned\n",
       "114   1942-04-02"
      ]
     },
     "execution_count": 14,
     "metadata": {},
     "output_type": "execute_result"
    }
   ],
   "source": [
    "data_raw.loc[[114], [\"Commissioned\"]]"
   ]
  },
  {
   "cell_type": "code",
   "execution_count": 15,
   "metadata": {},
   "outputs": [
    {
     "name": "stdout",
     "output_type": "stream",
     "text": [
      "113    1941-12-06\n",
      "123    1940-15-30\n",
      "Name: Commissioned, dtype: object\n"
     ]
    }
   ],
   "source": [
    "data_raw.loc[113, \"Commissioned\"] = \"1941-12-06\"\n",
    "data_raw.loc[123, \"Commissioned\"] = \"1940-15-30\"\n",
    "\n",
    "print(data_raw.loc[[113, 123], \"Commissioned\"])"
   ]
  },
  {
   "cell_type": "markdown",
   "metadata": {},
   "source": [
    "To see if I have filled in the null values, I need to check again the null values."
   ]
  },
  {
   "cell_type": "code",
   "execution_count": 17,
   "metadata": {},
   "outputs": [
    {
     "name": "stdout",
     "output_type": "stream",
     "text": [
      "Name                                       0\n",
      "Year                                       0\n",
      "Type                                       0\n",
      "Notable Commanders                       935\n",
      "Warships_sunk_n_total_loss_No              0\n",
      "Warships_sunk_n_total_loss_Tons-n-GRT      0\n",
      "Warships_Damaged_No                        0\n",
      "Warships_Damaged_Tons-n-GRT                0\n",
      "Merchant_Ships_sunk_No                     0\n",
      "Merchant_Ships_sunk_GRT                    0\n",
      "Merchant_Ships_damaged_No                  0\n",
      "Merchant_Ships_damaged_GRT                 0\n",
      "Merchant_Ships_total_loss_No               0\n",
      "Merchant_Ships_total_loss_GRT              0\n",
      "Fate_Event                                 0\n",
      "Fate_Date                                  0\n",
      "Notes                                    250\n",
      "URL                                        0\n",
      "Commissioned                               0\n",
      "Patrols                                  296\n",
      "Patrols_Count                              0\n",
      "Wolfpacks                                779\n",
      "Wolfpacks_Count                            0\n",
      "Flotilla                                   0\n",
      "Flotilla_Count                             0\n",
      "Last_Flotilla                              0\n",
      "dtype: int64\n"
     ]
    }
   ],
   "source": [
    "total_null_values = data_raw.isnull().sum()\n",
    "print(total_null_values)"
   ]
  },
  {
   "cell_type": "markdown",
   "metadata": {},
   "source": [
    "There are some columns that have very long names, I will rename these columns to make them easier to find."
   ]
  },
  {
   "cell_type": "code",
   "execution_count": 10,
   "metadata": {},
   "outputs": [],
   "source": [
    "data_renamed = data_raw.rename(columns={\"Warships_sunk_n_total_loss_No\": \"Total_warships_sunk\", \n",
    "                                        \"Warships_sunk_n_total_loss_Tons-n-GRT\": \"Total_warship_tonnage_sunk\",\n",
    "                                        \"Merchant_Ships_sunk_No\": \"Total_merchant_ships_sunk\",\n",
    "                                        \"Merchant_Ships_sunk_GRT\": \"Total_merchant_ships_tonnage_sunk\"})"
   ]
  },
  {
   "cell_type": "code",
   "execution_count": null,
   "metadata": {},
   "outputs": [],
   "source": [
    "data_renamed.columns"
   ]
  },
  {
   "cell_type": "code",
   "execution_count": null,
   "metadata": {},
   "outputs": [],
   "source": [
    "data_renamed.dtypes"
   ]
  },
  {
   "cell_type": "code",
   "execution_count": null,
   "metadata": {},
   "outputs": [],
   "source": [
    "\n",
    "print(data_renamed[\"Total_warship_tonnage_sunk\"].dtype)"
   ]
  },
  {
   "cell_type": "code",
   "execution_count": null,
   "metadata": {},
   "outputs": [],
   "source": [
    "warship_tonnage_values = data_renamed[\"Total_warship_tonnage_sunk\"].value_counts()\n",
    "print(warship_tonnage_values)"
   ]
  },
  {
   "cell_type": "markdown",
   "metadata": {},
   "source": [
    "Since the tonnage columns are represented as tonnage and now are shown as object"
   ]
  },
  {
   "cell_type": "code",
   "execution_count": 19,
   "metadata": {},
   "outputs": [],
   "source": [
    "data_renamed[\"Total_warship_tonnage_sunk\"] = data_renamed[\"Total_warship_tonnage_sunk\"].str.replace(',', '').astype(float)"
   ]
  },
  {
   "cell_type": "code",
   "execution_count": null,
   "metadata": {},
   "outputs": [],
   "source": [
    "print(data_renamed[\"Total_warship_tonnage_sunk\"].dtype)\n",
    "data_renamed[\"Total_warship_tonnage_sunk\"].head(100)"
   ]
  }
 ],
 "metadata": {
  "kernelspec": {
   "display_name": "Python 3",
   "language": "python",
   "name": "python3"
  },
  "language_info": {
   "codemirror_mode": {
    "name": "ipython",
    "version": 3
   },
   "file_extension": ".py",
   "mimetype": "text/x-python",
   "name": "python",
   "nbconvert_exporter": "python",
   "pygments_lexer": "ipython3",
   "version": "3.11.9"
  }
 },
 "nbformat": 4,
 "nbformat_minor": 2
}
